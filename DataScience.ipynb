{
  "metadata": {
    "kernelspec": {
      "name": "python",
      "display_name": "Python (Pyodide)",
      "language": "python"
    },
    "language_info": {
      "codemirror_mode": {
        "name": "python",
        "version": 3
      },
      "file_extension": ".py",
      "mimetype": "text/x-python",
      "name": "python",
      "nbconvert_exporter": "python",
      "pygments_lexer": "ipython3",
      "version": "3.8"
    }
  },
  "nbformat_minor": 4,
  "nbformat": 4,
  "cells": [
    {
      "cell_type": "markdown",
      "source": "# My Data Science Notebook\n",
      "metadata": {}
    },
    {
      "cell_type": "markdown",
      "source": "This notebook provides an overview of key concepts in data science.\n\n",
      "metadata": {}
    },
    {
      "cell_type": "markdown",
      "source": "This section lists popular programming languages used in data science:\n\n1. Python\n2. R\n3. SQL\n4. Java\n5. Julia\n",
      "metadata": {}
    },
    {
      "cell_type": "markdown",
      "source": "Here are some commonly used data science libraries:\n\n1. Pandas\n2. NumPy\n3. Matplotlib\n4. Scikit-learn\n5. TensorFlow\n",
      "metadata": {}
    },
    {
      "cell_type": "markdown",
      "source": "| Tool          | Description                       |\n|---------------|-----------------------------------|\n| Jupyter       | Interactive computing environment |\n| RStudio       | IDE for R                        |\n| Git           | Version control                   |\n| Tableau       | Data visualization                |\n| Apache Spark  | Big data processing               |\n",
      "metadata": {}
    },
    {
      "cell_type": "markdown",
      "source": "This section provides examples of arithmetic expressions.\n",
      "metadata": {}
    },
    {
      "cell_type": "markdown",
      "source": "# Multiply and add two integers\na = 5\nb = 10\nresult = a * b + a\nresult\n",
      "metadata": {}
    },
    {
      "cell_type": "code",
      "source": "# Convert minutes to hours\ndef minutes_to_hours(minutes):\n    return minutes / 60\n\n# Example usage\nhours = minutes_to_hours(120)\nhours\n",
      "metadata": {
        "trusted": true
      },
      "outputs": [
        {
          "execution_count": 1,
          "output_type": "execute_result",
          "data": {
            "text/plain": "2.0"
          },
          "metadata": {}
        }
      ],
      "execution_count": 1
    },
    {
      "cell_type": "markdown",
      "source": "## Objectives\n- Understand data science concepts\n- Learn programming languages\n- Explore data science libraries\n- Apply tools for data analysis\n",
      "metadata": {}
    },
    {
      "cell_type": "code",
      "source": "### Author Details\nName: [Your Name]\n",
      "metadata": {
        "trusted": true
      },
      "outputs": [],
      "execution_count": null
    }
  ]
}